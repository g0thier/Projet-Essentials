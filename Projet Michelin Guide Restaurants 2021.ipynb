{
 "cells": [
  {
   "cell_type": "markdown",
   "id": "e90c3ede",
   "metadata": {},
   "source": [
    "# Projet : Michelin Guide Restaurants 2021 | Kaggle\n",
    "\n",
    "## Problèmatique :  Peut-on attribuer une étoile à un restaurant sans y avoir mangé ?\n",
    "\n",
    "![Michelin](src/icon.png)\n",
    "\n",
    "### Questions : \n",
    "* Peut-on attribuer une étoile à un restaurant sans y avoir mangé ?\n",
    "* Quel Positionnement Marketing peut prendre un restaurateur pour entrer au Guide Michelin ?\n",
    "\n",
    "**Dataset :** [Dataset Michelin Guide Restaurants 2021](https://www.kaggle.com/datasets/ngshiheng/michelin-guide-restaurants-2021)\n",
    "\n",
    "**Reference :** [Site du Guide Michelin](https://guide.michelin.com/en/restaurants)\n",
    "\n",
    "\n",
    "## Prévisualisation des données.\n",
    "\n",
    "[Tableau Michelin Guide Restaurants 2021](https://public.tableau.com/app/profile/gauthier6270/viz/MichelinGuideRestaurants2021Kaggle/MichelinGuideRestaurants2021)\n",
    "\n",
    "### Page 1 :  Emplacements des restaurants \n",
    "\n",
    "* La prévisualisation de la carte permet de mettre en évidence que la majorité des restaurants incrits au Guide Michemin se trouve en Europe. Cela va nous permettre de filter nos données sur les devises en Euro et éviter de calculer les taux de changes. \n",
    "\n",
    "* En filtrant ces données et en les mettant en valeur par densité, on s'aperçoit qu'il existe des Hotspot sur les côtes, à Paris, Bruxelle et sur la [banane bleu](https://fr.wikipedia.org/wiki/Mégalopole_européenne). \n",
    "\n",
    "\n",
    "### Page 2 :  Cuisine en europe et à Paris \n",
    "\n",
    "* Après regroupement des sous-catégories de cuisine dans des ensembles antagonistes : \n",
    "    * Classique / Contemporaine \n",
    "    * Internationnal / Régionale \n",
    "    * Produit de la mer / Grill / Végétarien / Saisonnier \n",
    "    \n",
    "Nous obtenons une carte mettant en valeur les cuisines : Classique, Contemporaine et Régionale. Avec une prévalence des cuisines Classique et Contemporaine dans l'ensemble des térritoires. \n",
    "\n",
    "On peut noter des répartitions diffèrentes avec une remonté de la cuisine régionale en Italie, Allemagne et Belgique en concordance avec notre bassin de population. En revance à Paris, nous obtenons une prévalence de Cuisine Contemporaine et créative. \n",
    "\n",
    "### Page 3 :  Classement Michelin en fonction de la cuisine et du territoire. \n",
    "\n",
    "En comparant les types de cuisines avec le nombre d'étoiles au Michelin, nous nous rendons compte :\n",
    "\n",
    "* Que la cuisine internationnale n'a jamais obtenu 3 étoiles. \n",
    "\n",
    "* Que la cuisine Grill, Végétarienne et Saisonnière n'a jamais obtenu plus d'une seule étoile. \n",
    "\n",
    "Sur la carte nous voyons qu'au delà d'une répartition homogène des étoiles sur le territoire Européen, la majorité des \"3 étoiles\" du Guide se trouve dans le sud est de la France et dans le nord de l'Italie.\n",
    "\n",
    "### Page 4 : Classement Michelin en fonction de la cuisine. \n",
    "\n",
    "La répartition des étoiles (toutes catégories confondues) viennent mettre en lumière les restaurants ayant une cuisine contemporaine et originale. \n",
    "\n",
    "On peut noter une volonté du guide à mettre en valeur la cuisine régionale en lui attribuant davantage de Bib Gourmand venant la faire passer devant la cuisine classique (il peut s'agir d'une bonne piste pour un nouveau restaurateur qui souhaiterait s'introduire dans le classement). \n",
    "\n",
    "### Page 5 : Classement Michelin en fonction du prix du menu. \n",
    "\n",
    "En analysant nos colonnes des prix, MinPrice(menu moyen le plus économique) et MaxPrice(menu moyen le plus chère), on obtients des fourchettes de prix bien découpé entre Bid Gourmand, 1, 2 et 3 étoiles. \n",
    "\n",
    "On peut observer que la moyennes de ces deux colonnes permettent de voir des prix croissant entre les différentes étoiles attribué. \n",
    "* Un nouvel entant par la catégorie Bib Gourmant pourra fixer ses prix grace à cette estimation de prix.\n",
    "* les classés pourrons augmenter en gamme en remplaçant de leur carte les menu plus économiques."
   ]
  },
  {
   "cell_type": "markdown",
   "id": "7ab3d41d",
   "metadata": {},
   "source": [
    "# Appliquez un modèle d'apprentissage automatique"
   ]
  },
  {
   "cell_type": "code",
   "execution_count": 2,
   "id": "8f3d1555",
   "metadata": {
    "scrolled": true
   },
   "outputs": [
    {
     "data": {
      "text/html": [
       "<div>\n",
       "<style scoped>\n",
       "    .dataframe tbody tr th:only-of-type {\n",
       "        vertical-align: middle;\n",
       "    }\n",
       "\n",
       "    .dataframe tbody tr th {\n",
       "        vertical-align: top;\n",
       "    }\n",
       "\n",
       "    .dataframe thead th {\n",
       "        text-align: right;\n",
       "    }\n",
       "</style>\n",
       "<table border=\"1\" class=\"dataframe\">\n",
       "  <thead>\n",
       "    <tr style=\"text-align: right;\">\n",
       "      <th></th>\n",
       "      <th>Name</th>\n",
       "      <th>Address</th>\n",
       "      <th>Location</th>\n",
       "      <th>MinPrice</th>\n",
       "      <th>MaxPrice</th>\n",
       "      <th>Currency</th>\n",
       "      <th>Cuisine</th>\n",
       "      <th>Longitude</th>\n",
       "      <th>Latitude</th>\n",
       "      <th>PhoneNumber</th>\n",
       "      <th>Url</th>\n",
       "      <th>WebsiteUrl</th>\n",
       "      <th>Award</th>\n",
       "    </tr>\n",
       "  </thead>\n",
       "  <tbody>\n",
       "    <tr>\n",
       "      <th>0</th>\n",
       "      <td>Aqua</td>\n",
       "      <td>Parkstraße 1, Wolfsburg, 38440, Germany</td>\n",
       "      <td>Wolfsburg</td>\n",
       "      <td>225</td>\n",
       "      <td>225</td>\n",
       "      <td>EUR</td>\n",
       "      <td>Creative, Modern Cuisine</td>\n",
       "      <td>10.789999</td>\n",
       "      <td>52.433172</td>\n",
       "      <td>4.953616e+11</td>\n",
       "      <td>https://guide.michelin.com/en/niedersachsen/wo...</td>\n",
       "      <td>http://www.restaurant-aqua.com</td>\n",
       "      <td>3 MICHELIN Stars</td>\n",
       "    </tr>\n",
       "    <tr>\n",
       "      <th>1</th>\n",
       "      <td>The Table Kevin Fehling</td>\n",
       "      <td>Shanghaiallee 15, Hamburg, 20457, Germany</td>\n",
       "      <td>Hamburg</td>\n",
       "      <td>230</td>\n",
       "      <td>230</td>\n",
       "      <td>EUR</td>\n",
       "      <td>Creative</td>\n",
       "      <td>10.002980</td>\n",
       "      <td>53.542623</td>\n",
       "      <td>4.940229e+11</td>\n",
       "      <td>https://guide.michelin.com/en/hamburg-region/h...</td>\n",
       "      <td>http://www.the-table-hamburg.de/</td>\n",
       "      <td>3 MICHELIN Stars</td>\n",
       "    </tr>\n",
       "    <tr>\n",
       "      <th>2</th>\n",
       "      <td>Restaurant Überfahrt Christian Jürgens</td>\n",
       "      <td>Überfahrtstraße 10, Rottach-Egern, 83700, Germany</td>\n",
       "      <td>Rottach-Egern</td>\n",
       "      <td>259</td>\n",
       "      <td>319</td>\n",
       "      <td>EUR</td>\n",
       "      <td>Creative</td>\n",
       "      <td>11.758229</td>\n",
       "      <td>47.696685</td>\n",
       "      <td>4.980227e+09</td>\n",
       "      <td>https://guide.michelin.com/en/bayern/rottach-e...</td>\n",
       "      <td>http://www.althoffcollection.com</td>\n",
       "      <td>3 MICHELIN Stars</td>\n",
       "    </tr>\n",
       "    <tr>\n",
       "      <th>3</th>\n",
       "      <td>Victor's Fine Dining by christian bau</td>\n",
       "      <td>Schlossstraße 27, Perl, 66706, Germany</td>\n",
       "      <td>Perl</td>\n",
       "      <td>205</td>\n",
       "      <td>295</td>\n",
       "      <td>EUR</td>\n",
       "      <td>Creative</td>\n",
       "      <td>6.387211</td>\n",
       "      <td>49.535173</td>\n",
       "      <td>4.968668e+10</td>\n",
       "      <td>https://guide.michelin.com/en/saarland/perl/re...</td>\n",
       "      <td>https://www.victors-fine-dining.de/</td>\n",
       "      <td>3 MICHELIN Stars</td>\n",
       "    </tr>\n",
       "    <tr>\n",
       "      <th>4</th>\n",
       "      <td>Rutz</td>\n",
       "      <td>Chausseestraße 8, Berlin, 10115, Germany</td>\n",
       "      <td>Berlin</td>\n",
       "      <td>198</td>\n",
       "      <td>245</td>\n",
       "      <td>EUR</td>\n",
       "      <td>Modern Cuisine, Creative</td>\n",
       "      <td>13.386087</td>\n",
       "      <td>52.528351</td>\n",
       "      <td>4.930246e+11</td>\n",
       "      <td>https://guide.michelin.com/en/berlin-region/be...</td>\n",
       "      <td>https://www.rutz-restaurant.de/</td>\n",
       "      <td>3 MICHELIN Stars</td>\n",
       "    </tr>\n",
       "  </tbody>\n",
       "</table>\n",
       "</div>"
      ],
      "text/plain": [
       "                                     Name  \\\n",
       "0                                    Aqua   \n",
       "1                 The Table Kevin Fehling   \n",
       "2  Restaurant Überfahrt Christian Jürgens   \n",
       "3   Victor's Fine Dining by christian bau   \n",
       "4                                    Rutz   \n",
       "\n",
       "                                             Address       Location MinPrice  \\\n",
       "0            Parkstraße 1, Wolfsburg, 38440, Germany      Wolfsburg      225   \n",
       "1          Shanghaiallee 15, Hamburg, 20457, Germany        Hamburg      230   \n",
       "2  Überfahrtstraße 10, Rottach-Egern, 83700, Germany  Rottach-Egern      259   \n",
       "3             Schlossstraße 27, Perl, 66706, Germany           Perl      205   \n",
       "4           Chausseestraße 8, Berlin, 10115, Germany         Berlin      198   \n",
       "\n",
       "  MaxPrice Currency                   Cuisine  Longitude   Latitude  \\\n",
       "0      225      EUR  Creative, Modern Cuisine  10.789999  52.433172   \n",
       "1      230      EUR                  Creative  10.002980  53.542623   \n",
       "2      319      EUR                  Creative  11.758229  47.696685   \n",
       "3      295      EUR                  Creative   6.387211  49.535173   \n",
       "4      245      EUR  Modern Cuisine, Creative  13.386087  52.528351   \n",
       "\n",
       "    PhoneNumber                                                Url  \\\n",
       "0  4.953616e+11  https://guide.michelin.com/en/niedersachsen/wo...   \n",
       "1  4.940229e+11  https://guide.michelin.com/en/hamburg-region/h...   \n",
       "2  4.980227e+09  https://guide.michelin.com/en/bayern/rottach-e...   \n",
       "3  4.968668e+10  https://guide.michelin.com/en/saarland/perl/re...   \n",
       "4  4.930246e+11  https://guide.michelin.com/en/berlin-region/be...   \n",
       "\n",
       "                            WebsiteUrl             Award  \n",
       "0       http://www.restaurant-aqua.com  3 MICHELIN Stars  \n",
       "1     http://www.the-table-hamburg.de/  3 MICHELIN Stars  \n",
       "2     http://www.althoffcollection.com  3 MICHELIN Stars  \n",
       "3  https://www.victors-fine-dining.de/  3 MICHELIN Stars  \n",
       "4      https://www.rutz-restaurant.de/  3 MICHELIN Stars  "
      ]
     },
     "execution_count": 2,
     "metadata": {},
     "output_type": "execute_result"
    }
   ],
   "source": [
    "# Imports\n",
    "import pandas as pd\n",
    "import numpy as np \n",
    "\n",
    "from sklearn.model_selection import train_test_split\n",
    "from sklearn.impute import SimpleImputer\n",
    "from sklearn.preprocessing import StandardScaler, OneHotEncoder, LabelEncoder\n",
    "from sklearn.compose import ColumnTransformer\n",
    "from sklearn.linear_model import LinearRegression\n",
    "from sklearn.tree import DecisionTreeClassifier\n",
    "from sklearn.ensemble import RandomForestClassifier\n",
    "from sklearn.metrics import plot_confusion_matrix\n",
    "\n",
    "import sklearn.linear_model as sk\n",
    "\n",
    "import seaborn as sns\n",
    "\n",
    "import matplotlib.pyplot as plt\n",
    "\n",
    "# Import & visualize dataset\n",
    "\n",
    "df = pd.read_csv(\"src/michelin_my_maps.csv\")\n",
    "df.head()"
   ]
  },
  {
   "cell_type": "markdown",
   "id": "99bf23ed",
   "metadata": {},
   "source": [
    "### Types de données\n",
    "\n",
    "* _0 : Name = ✏️ Qualitative Data : Nominal\n",
    "* _1 : Adresse = ✏️ Qualitative Data : Nominal\n",
    "* _2 : Location = ✏️ Qualitative Data : Nominal\n",
    "* _3 : MinPrice = 🔢 Quantitative Data : Discrete\n",
    "* _4 : MaxPrice = 🔢 Quantitative Data : Discrete\n",
    "* _5 : Currency = ✏️ Qualitative Data : Nominal\n",
    "* _6 : Cuisine = ✏️ Qualitative Data : Nominal\n",
    "* _7 : Longitude = 🔢 Quantitative Data : ♾ Continuous\n",
    "* _8 : Latitude = 🔢 Quantitative Data : ♾ Continuous\n",
    "* _9 : PhoneNumber = 🔢 Quantitative Data : Discrete\n",
    "* 10 : Url = ✏️ Qualitative Data : Nominal\n",
    "* 11 : WebsiteUrl = ✏️ Qualitative Data : Nominal\n",
    "* 12 : Award = ✏️ Qualitative Data : 💯 Ordinal"
   ]
  },
  {
   "cell_type": "code",
   "execution_count": 2,
   "id": "b2b2e47b",
   "metadata": {},
   "outputs": [
    {
     "data": {
      "text/plain": [
       "Name           False\n",
       "Address        False\n",
       "Location       False\n",
       "MinPrice       False\n",
       "MaxPrice       False\n",
       "Currency       False\n",
       "Cuisine        False\n",
       "Longitude      False\n",
       "Latitude       False\n",
       "PhoneNumber     True\n",
       "Url            False\n",
       "WebsiteUrl      True\n",
       "Award          False\n",
       "dtype: bool"
      ]
     },
     "execution_count": 2,
     "metadata": {},
     "output_type": "execute_result"
    }
   ],
   "source": [
    "# Correction d'erreur sur les colonnes :\n",
    "\n",
    "df.dtypes # Affichage infos Types\n",
    "\n",
    "# Correction \",\" -> \"\" pour les 1000\n",
    "##\n",
    "cl_To_Replace = [\"MinPrice\", \"MaxPrice\"]\n",
    "df[cl_To_Replace] = df[cl_To_Replace].replace(to_replace=\",\", value= \"\", regex = True)\n",
    "\n",
    "# Supression des lignes vides\n",
    "##\n",
    "df.dropna(subset = [\"MinPrice\", \"MaxPrice\"], inplace=True)\n",
    "\n",
    "# Correction Type txt -> int\n",
    "##\n",
    "df[\"MinPrice\"] = df[\"MinPrice\"].astype(int)\n",
    "df[\"MaxPrice\"] = df[\"MaxPrice\"].astype(int)\n",
    "\n",
    "df.isnull().any() # Recherche de ligne vides\n",
    "\n",
    "df.describe(include=\"all\")\n",
    "\n",
    "df.isnull().any()"
   ]
  },
  {
   "cell_type": "markdown",
   "id": "30d987de",
   "metadata": {},
   "source": [
    "### Échantillonnage \n",
    "\n",
    "Ce jeu de données correspond à l'ensemble des restaurant du guide michelin, mais par comodité nous allons nous concentrer sur les restaurants utilisant une devise en € et écarter les autres données pour éviter de réaliser des opérations de taux de change."
   ]
  },
  {
   "cell_type": "code",
   "execution_count": 3,
   "id": "cc0ee9e1",
   "metadata": {},
   "outputs": [
    {
     "name": "stdout",
     "output_type": "stream",
     "text": [
      "Taille du dataset initiale:  (6501, 13) \n",
      "\n",
      "Nombre de ligne dans le dataset :  6501 \n",
      "\n",
      "Marge d'erreur THÉORIQUE :  440.1082957388672 \n",
      "\n",
      "Nombre de ligne euro du dataset :  3535 \n",
      "\n",
      "Marge d'erreur THÉORIQUE :  2.104615760244914 \n",
      "\n",
      "Sans retirer ces valeurs, notre Marge d'erreur sur les prix serait de 400, ce qui serait faussé par rapport à notre nouveau jeu de donnée tronqué donc notre marge d'erreur actuel qui se situe à 2 €\n"
     ]
    }
   ],
   "source": [
    "# Taille du dataSet \n",
    "##\n",
    "initial_size = df.shape\n",
    "initial_number_of_row = len(df)\n",
    "\n",
    "\n",
    "# Calcul de la marge d'erreur\n",
    "##\n",
    "Z_Score = 1.96 \n",
    "Sigma = df.std()\n",
    "n = len(df)\n",
    "\n",
    "E = Z_Score * Sigma / np.sqrt(n) ## Marge d'erreur \n",
    "\n",
    "\n",
    "# Calcul d'une Taille minimale viable pour un échantillon\n",
    "##\n",
    "s = df.std()# Sample Standard = ecart Type de l'échantillon \n",
    "t = Z_Score ## Z_Score, noté t ou Z.\n",
    "\n",
    "n_minimun = ( t * s / E)**2 ## taille de l'échantillon \n",
    "\n",
    "\n",
    "\n",
    "print(\"Taille du dataset initiale: \", initial_size, \"\\n\")\n",
    "\n",
    "print(\"Nombre de ligne dans le dataset : \",  initial_number_of_row, \"\\n\")\n",
    "\n",
    "print(\"Marge d'erreur THÉORIQUE : \", E[\"MaxPrice\"] ,\"\\n\")\n",
    "\n",
    "# Reduction de notre dataSet à la devise EUR. \n",
    "##\n",
    "df = df.query(\"Currency == 'EUR'\")\n",
    "\n",
    "\n",
    "# Calcul de la marge d'erreur\n",
    "##\n",
    "Z_Score = 1.96 \n",
    "Sigma = df.std()\n",
    "n = len(df)\n",
    "\n",
    "E = Z_Score * Sigma / np.sqrt(n) ## Marge d'erreur \n",
    "\n",
    "\n",
    "# Calcul d'une Taille minimale viable pour un échantillon\n",
    "##\n",
    "s = df.std()# Sample Standard = ecart Type de l'échantillon \n",
    "t = Z_Score ## Z_Score, noté t ou Z.\n",
    "\n",
    "n_minimun = ( t * s / E)**2 ## taille de l'échantillon \n",
    "\n",
    "print(\"Nombre de ligne euro du dataset : \", len(df), \"\\n\")\n",
    "\n",
    "print(\"Marge d'erreur THÉORIQUE : \", E[\"MaxPrice\"] ,\"\\n\")\n",
    "\n",
    "print(\"Sans retirer ces valeurs, notre Marge d'erreur sur les prix serait de 400,\",  \n",
    "      \"ce qui serait faussé par rapport à notre nouveau jeu de donnée tronqué\",\n",
    "      \"donc notre marge d'erreur actuel qui se situe à 2 €\")"
   ]
  },
  {
   "cell_type": "markdown",
   "id": "d8e5d25b",
   "metadata": {},
   "source": [
    "### EDA"
   ]
  },
  {
   "cell_type": "code",
   "execution_count": 4,
   "id": "753f9475",
   "metadata": {},
   "outputs": [
    {
     "data": {
      "text/html": [
       "<div>\n",
       "<style scoped>\n",
       "    .dataframe tbody tr th:only-of-type {\n",
       "        vertical-align: middle;\n",
       "    }\n",
       "\n",
       "    .dataframe tbody tr th {\n",
       "        vertical-align: top;\n",
       "    }\n",
       "\n",
       "    .dataframe thead th {\n",
       "        text-align: right;\n",
       "    }\n",
       "</style>\n",
       "<table border=\"1\" class=\"dataframe\">\n",
       "  <thead>\n",
       "    <tr style=\"text-align: right;\">\n",
       "      <th></th>\n",
       "      <th>MinPrice</th>\n",
       "      <th>MaxPrice</th>\n",
       "      <th>Cuisine</th>\n",
       "      <th>Award</th>\n",
       "    </tr>\n",
       "  </thead>\n",
       "  <tbody>\n",
       "    <tr>\n",
       "      <th>0</th>\n",
       "      <td>225</td>\n",
       "      <td>225</td>\n",
       "      <td>Creative, Modern Cuisine</td>\n",
       "      <td>3 MICHELIN Stars</td>\n",
       "    </tr>\n",
       "    <tr>\n",
       "      <th>1</th>\n",
       "      <td>230</td>\n",
       "      <td>230</td>\n",
       "      <td>Creative</td>\n",
       "      <td>3 MICHELIN Stars</td>\n",
       "    </tr>\n",
       "    <tr>\n",
       "      <th>2</th>\n",
       "      <td>259</td>\n",
       "      <td>319</td>\n",
       "      <td>Creative</td>\n",
       "      <td>3 MICHELIN Stars</td>\n",
       "    </tr>\n",
       "    <tr>\n",
       "      <th>3</th>\n",
       "      <td>205</td>\n",
       "      <td>295</td>\n",
       "      <td>Creative</td>\n",
       "      <td>3 MICHELIN Stars</td>\n",
       "    </tr>\n",
       "    <tr>\n",
       "      <th>4</th>\n",
       "      <td>198</td>\n",
       "      <td>245</td>\n",
       "      <td>Modern Cuisine, Creative</td>\n",
       "      <td>3 MICHELIN Stars</td>\n",
       "    </tr>\n",
       "  </tbody>\n",
       "</table>\n",
       "</div>"
      ],
      "text/plain": [
       "   MinPrice  MaxPrice                   Cuisine             Award\n",
       "0       225       225  Creative, Modern Cuisine  3 MICHELIN Stars\n",
       "1       230       230                  Creative  3 MICHELIN Stars\n",
       "2       259       319                  Creative  3 MICHELIN Stars\n",
       "3       205       295                  Creative  3 MICHELIN Stars\n",
       "4       198       245  Modern Cuisine, Creative  3 MICHELIN Stars"
      ]
     },
     "execution_count": 4,
     "metadata": {},
     "output_type": "execute_result"
    }
   ],
   "source": [
    "# Supprime les colonnes inutiles :\n",
    "##\n",
    "df = df.drop(columns=[\"Name\", \"Address\",\"Location\", \"Currency\" , \"Longitude\", \"Latitude\", \"PhoneNumber\", \"Url\", \"WebsiteUrl\"])\n",
    "\n",
    "# df.columns # \"Cuisine\", \"MinPrice\", \"MaxPrice\", \"Award\"\n",
    "\n",
    "df.head()"
   ]
  },
  {
   "cell_type": "code",
   "execution_count": 5,
   "id": "582956cb",
   "metadata": {},
   "outputs": [
    {
     "data": {
      "text/plain": [
       "<seaborn.axisgrid.FacetGrid at 0x7f8ee688cb20>"
      ]
     },
     "execution_count": 5,
     "metadata": {},
     "output_type": "execute_result"
    },
    {
     "data": {
      "image/png": "[encoded data removed]",
      "text/plain": [
       "<Figure size 640x360 with 1 Axes>"
      ]
     },
     "metadata": {
      "needs_background": "light"
     },
     "output_type": "display_data"
    }
   ],
   "source": [
    "sns.catplot(x=\"Award\", y=\"MinPrice\",data=df, kind=\"bar\", aspect=16/9)"
   ]
  },
  {
   "cell_type": "code",
   "execution_count": 6,
   "id": "a5723033",
   "metadata": {},
   "outputs": [
    {
     "data": {
      "image/png": "[encoded data removed]",
      "text/plain": [
       "<Figure size 640x480 with 1 Axes>"
      ]
     },
     "metadata": {},
     "output_type": "display_data"
    }
   ],
   "source": [
    "sns.boxplot(x=\"Award\", y=\"MinPrice\", hue=\"Award\", data=df).invert_xaxis()"
   ]
  },
  {
   "cell_type": "code",
   "execution_count": 7,
   "id": "ce959b63",
   "metadata": {},
   "outputs": [
    {
     "data": {
      "text/plain": [
       "<seaborn.axisgrid.FacetGrid at 0x7f8eeab75640>"
      ]
     },
     "execution_count": 7,
     "metadata": {},
     "output_type": "execute_result"
    },
    {
     "data": {
      "image/png": "[encoded data removed]",
      "text/plain": [
       "<Figure size 888.889x500 with 1 Axes>"
      ]
     },
     "metadata": {},
     "output_type": "display_data"
    }
   ],
   "source": [
    "sns.catplot(x=\"Award\", y=\"MinPrice\", hue=\"Award\", data=df, aspect=16/9)"
   ]
  },
  {
   "cell_type": "markdown",
   "id": "af276dee",
   "metadata": {},
   "source": [
    "### Preprocessing"
   ]
  },
  {
   "cell_type": "code",
   "execution_count": 8,
   "id": "ec0972a0",
   "metadata": {},
   "outputs": [
    {
     "data": {
      "text/plain": [
       "array(['Creative, Modern Cuisine', 'Creative', 'Modern Cuisine, Creative',\n",
       "       'Classic French', 'Classic French, Creative',\n",
       "       'Modern French, Creative', 'Creative, Contemporary',\n",
       "       'Creative, Innovative', 'Modern Cuisine',\n",
       "       'Creative, Traditional Cuisine', 'Modern Cuisine, Italian',\n",
       "       'Modern Cuisine, Contemporary', 'Creative, Alpine',\n",
       "       'Creative, Seafood', 'Mediterranean Cuisine, Modern Cuisine',\n",
       "       'Classic Cuisine', 'Creative, Regional Cuisine', 'Seafood',\n",
       "       'Modern Cuisine, Classic Cuisine',\n",
       "       'Modern Cuisine, Japanese Contemporary',\n",
       "       'Creative, Country cooking', 'Creative, Classic Cuisine',\n",
       "       'Classic French, Classic Cuisine',\n",
       "       'Creative French, Classic Cuisine', 'Creative, Classic French',\n",
       "       'Modern Cuisine, International', 'Asian, Creative',\n",
       "       'Creative, French Contemporary', 'Mediterranean Cuisine, Creative',\n",
       "       'Creative, Market Cuisine', 'Modern Cuisine, Classic French',\n",
       "       'Classic Cuisine, Mediterranean Cuisine',\n",
       "       'Classic Cuisine, Modern Cuisine', 'Creative French',\n",
       "       'Innovative, Market Cuisine', 'Modern French',\n",
       "       'Creative, Castilian', 'Creative, Mediterranean Cuisine',\n",
       "       'Contemporary', 'Creative, Italian', 'Creative, Sicilian',\n",
       "       'Mediterranean Cuisine, Italian', 'Seafood, Modern Cuisine',\n",
       "       'Piedmontese, Regional Cuisine',\n",
       "       'Italian Contemporary, Modern Cuisine',\n",
       "       'Contemporary, Modern Cuisine', 'French',\n",
       "       'Modern French, World Cuisine', 'Creative, Modern French',\n",
       "       'Country cooking, Modern Cuisine', 'Creative, Seasonal Cuisine',\n",
       "       'Mediterranean Cuisine', 'Japanese, Creative', 'Creative, Organic',\n",
       "       'Classic French, Traditional Cuisine',\n",
       "       'Modern French, Modern Cuisine', 'Traditional Cuisine',\n",
       "       'Asian Influences, Creative', 'Japanese, Sushi',\n",
       "       'Creative, Japanese', 'Modern Cuisine, Regional Cuisine',\n",
       "       'Fusion, Japanese', 'Classic French, Contemporary',\n",
       "       'Modern French, Regional Cuisine', 'Market Cuisine, International',\n",
       "       'Modern Cuisine, Asian Influences',\n",
       "       'Modern Cuisine, Market Cuisine', 'French Contemporary',\n",
       "       'Innovative, Modern Cuisine', 'Modern French, Contemporary',\n",
       "       'Classic French, Market Cuisine',\n",
       "       'Modern Cuisine, Seasonal Cuisine', 'Modern Cuisine, Russian',\n",
       "       'Creative, International', 'Classic Cuisine, Seasonal Cuisine',\n",
       "       'French Contemporary, Modern Cuisine',\n",
       "       'Italian, Mediterranean Cuisine',\n",
       "       'Asian Influences, Classic French', 'French, International',\n",
       "       'Italian', 'Modern French, Classic Cuisine',\n",
       "       'Modern French, Seasonal Cuisine',\n",
       "       'Market Cuisine, Classic Cuisine', 'Japanese',\n",
       "       'Modern French, Country cooking',\n",
       "       'Classic Cuisine, Market Cuisine',\n",
       "       'Modern Cuisine, Country cooking', 'International, Market Cuisine',\n",
       "       'French, Creative', 'Classic French, Regional Cuisine',\n",
       "       'Market Cuisine, Modern Cuisine', 'Mediterranean Cuisine, Greek',\n",
       "       'Modern Cuisine, Modern French', 'Classic Cuisine, Contemporary',\n",
       "       'Japanese, Japanese Contemporary', 'Asian, Fusion',\n",
       "       'Classic French, Mediterranean Cuisine',\n",
       "       'Creative French, Market Cuisine',\n",
       "       'Classic French, Modern Cuisine', 'Contemporary, Modern French',\n",
       "       'Classic Cuisine, Modern French', 'Modern French, International',\n",
       "       'Thai', 'Modern French, Market Cuisine',\n",
       "       'Classic French, Seasonal Cuisine',\n",
       "       'Classic Cuisine, Regional Cuisine', 'Creative, French',\n",
       "       'Creative French, Modern Cuisine', 'Vegetarian',\n",
       "       'Country cooking, Classic Cuisine',\n",
       "       'Market Cuisine, Mediterranean Cuisine',\n",
       "       'Classic French, International', 'Israeli, Modern Cuisine',\n",
       "       'Classic Cuisine, French Contemporary', 'Vegan, Creative',\n",
       "       'Creative, North African', 'Modern Cuisine, Fusion',\n",
       "       'International, Classic Cuisine', 'Asian, Modern Cuisine',\n",
       "       'Classic Cuisine, International',\n",
       "       'French Contemporary, Creative French',\n",
       "       'Modern Cuisine, Mediterranean Cuisine',\n",
       "       'Regional Cuisine, Modern Cuisine', 'Japanese, Modern Cuisine',\n",
       "       'Contemporary, Classic French', 'Contemporary, Classic Cuisine',\n",
       "       'Classic Cuisine, Creative', 'Innovative, International',\n",
       "       'Mediterranean Cuisine, Market Cuisine', 'Market Cuisine',\n",
       "       'Country cooking', 'Creative, Fusion', 'Modern Cuisine, French',\n",
       "       'Seasonal Cuisine, Modern Cuisine',\n",
       "       'Market Cuisine, Country cooking', 'Modern Cuisine, Irish',\n",
       "       'Regional Cuisine', 'Portuguese', 'Basque',\n",
       "       'Modern Cuisine, Catalan', 'Traditional Cuisine, Contemporary',\n",
       "       'Traditional Cuisine, Modern Cuisine',\n",
       "       'Modern Cuisine, Traditional Cuisine', 'Galician',\n",
       "       'Catalan, Contemporary', 'Regional Cuisine, Contemporary',\n",
       "       'Mediterranean Cuisine, French Contemporary',\n",
       "       'Creative, Andalusian', 'Contemporary, Traditional Cuisine',\n",
       "       'Seafood, Traditional Cuisine', 'Modern Cuisine, Spanish',\n",
       "       'Traditional Cuisine, Seasonal Cuisine', 'Fusion', 'Colombian',\n",
       "       'International', 'Tuscan, Regional Cuisine',\n",
       "       'Modern Cuisine, Cuisine from Romagna',\n",
       "       'Modern Cuisine, Italian Contemporary', 'Tuscan',\n",
       "       'Italian, Modern Cuisine', 'Italian Contemporary, Japanese',\n",
       "       'Italian Contemporary', 'Campanian, Regional Cuisine',\n",
       "       'Contemporary, Seafood', 'Piedmontese, Creative',\n",
       "       'Italian Contemporary, Creative', 'Contemporary, Sicilian',\n",
       "       'Piedmontese', 'Country cooking, Regional Cuisine',\n",
       "       'Creative, Italian Contemporary', 'Modern Cuisine, Piedmontese',\n",
       "       'Modern Cuisine, Sardinian', 'Seasonal Cuisine, Regional Cuisine',\n",
       "       'Cuisine from Abruzzo, Regional Cuisine',\n",
       "       'Regional Cuisine, Traditional Cuisine',\n",
       "       'Mediterranean Cuisine, Sicilian', 'Modern Cuisine, Sicilian',\n",
       "       'Classic Cuisine, Italian Contemporary',\n",
       "       'Regional Cuisine, Classic Cuisine', 'Modern Cuisine, Seafood',\n",
       "       'Modern Cuisine, Alpine', 'Seafood, Contemporary',\n",
       "       'Modern Cuisine, Ligurian',\n",
       "       'Mediterranean Cuisine, Italian Contemporary',\n",
       "       'Campanian, Mediterranean Cuisine', 'Cuisine from Abruzzo',\n",
       "       'Emilian', 'Mediterranean Cuisine, Contemporary',\n",
       "       'Italian Contemporary, Contemporary',\n",
       "       'Mediterranean Cuisine, Regional Cuisine', 'Contemporary, Apulian',\n",
       "       'Seafood, Ligurian', 'Alpine, Modern Cuisine',\n",
       "       'Modern Cuisine, Innovative', 'Vegetarian, Seasonal Cuisine',\n",
       "       'Asian Contemporary, Modern Cuisine',\n",
       "       'Japanese, Asian Contemporary', 'Innovative, Creative',\n",
       "       'Seafood, Creative', 'Italian Contemporary, Piedmontese',\n",
       "       'Piedmontese, Modern Cuisine', 'Innovative, Italian Contemporary',\n",
       "       'Contemporary, Venetian', 'Finnish, Modern Cuisine',\n",
       "       'Asian Influences', 'Organic, Creative French',\n",
       "       'Market Cuisine, Modern French', 'Organic, Vegetarian',\n",
       "       'Creative, Asian Contemporary', 'Mediterranean Cuisine, French',\n",
       "       'Modern Cuisine, Sushi', 'World Cuisine',\n",
       "       'Asian, Asian Influences', 'Seafood, French', 'Italian, Creative',\n",
       "       'Greek', 'Thai, Asian Contemporary',\n",
       "       'Traditional Cuisine, Classic Cuisine', 'Provençal', 'Mexican',\n",
       "       'Modern Cuisine, Asian Contemporary', 'Chinese', 'Peruvian',\n",
       "       'Vegan', 'Traditional Cuisine, Savoyard',\n",
       "       'Corsican, Modern Cuisine', 'Fusion, Creative', 'Spanish',\n",
       "       'Traditional Cuisine, Meats and Grills',\n",
       "       'French, Seasonal Cuisine', 'Modern French, Creative French',\n",
       "       'Market Cuisine, Seasonal Cuisine',\n",
       "       'Creative French, Modern French', 'Creative French, Creative',\n",
       "       'World Cuisine, Creative French', 'Market Cuisine, Creative',\n",
       "       'Thai, Traditional Cuisine', 'Italian, Sicilian',\n",
       "       'Meats and Grills', 'Classic Cuisine, Belgian',\n",
       "       'Home Cooking, Creative French', 'Organic, Creative',\n",
       "       'Contemporary, Market Cuisine', 'Country cooking, Classic French',\n",
       "       'Traditional Cuisine, Seafood', 'Regional Cuisine, Market Cuisine',\n",
       "       'Contemporary, International', 'Country cooking, Market Cuisine',\n",
       "       'Country cooking, German', 'Classic Cuisine, French',\n",
       "       'German, Polish', 'Bavarian, International',\n",
       "       'Country cooking, International',\n",
       "       'Country cooking, Traditional Cuisine',\n",
       "       'Country cooking, Seasonal Cuisine',\n",
       "       'Country cooking, Mediterranean Cuisine',\n",
       "       'French, European Contemporary', 'Home Cooking, Country cooking',\n",
       "       'Regional Cuisine, International', 'International, Modern Cuisine',\n",
       "       'Middle Eastern', 'International, Country cooking',\n",
       "       'Market Cuisine, Bavarian', 'Country cooking, Home Cooking',\n",
       "       'Chinese, Cantonese', 'Country cooking, Contemporary',\n",
       "       'Meats and Grills, International', 'Austrian, Country cooking',\n",
       "       'Traditional Cuisine, Mediterranean Cuisine',\n",
       "       'Country cooking, Creative', 'Organic, Country cooking',\n",
       "       'Country cooking, Alsatian', 'Classic Cuisine, Country cooking',\n",
       "       'Seasonal Cuisine, International',\n",
       "       'Mediterranean Cuisine, Country cooking', 'International, Seafood',\n",
       "       'Meats and Grills, Regional Cuisine', 'International, Grills',\n",
       "       'Traditional Cuisine, International',\n",
       "       'Traditional Cuisine, Country cooking',\n",
       "       'Mediterranean Cuisine, International',\n",
       "       'International, Contemporary', 'Classic Cuisine, Home Cooking',\n",
       "       'Austrian, Traditional Cuisine',\n",
       "       'Market Cuisine, Regional Cuisine', 'Contemporary, Fusion',\n",
       "       'Portuguese, Mediterranean Cuisine', 'French, Country cooking',\n",
       "       'International, Regional Cuisine',\n",
       "       'Asian Influences, Contemporary', 'Market Cuisine, German',\n",
       "       'Country cooking, Asian', 'Traditional Cuisine, Regional Cuisine',\n",
       "       'German, Modern Cuisine', 'German, Austrian',\n",
       "       'Seasonal Cuisine, Country cooking',\n",
       "       'International, Traditional Cuisine',\n",
       "       'Classic French, Home Cooking', 'Contemporary, Creative', 'Irish',\n",
       "       'Austrian', 'Traditional Cuisine, Market Cuisine',\n",
       "       'Cuisine from Alentejo', 'Regional Cuisine, Castilian',\n",
       "       'Home Cooking', 'Contemporary, Regional Cuisine',\n",
       "       'Traditional Cuisine, Creative',\n",
       "       'Seasonal Cuisine, Market Cuisine', 'Rice Dishes',\n",
       "       'Seasonal Cuisine, Contemporary',\n",
       "       'International, Mediterranean Cuisine',\n",
       "       'Modern Cuisine, Regional European',\n",
       "       'Rice Dishes, Traditional Cuisine', 'Catalan',\n",
       "       'International, Innovative', 'Traditional Cuisine, Rice Dishes',\n",
       "       'Catalan, Traditional Cuisine', 'Regional Cuisine, Catalan',\n",
       "       'Catalan, Grills', 'Traditional Cuisine, Home Cooking',\n",
       "       'Spanish Contemporary', 'Contemporary, Basque',\n",
       "       'Contemporary, Seasonal Cuisine',\n",
       "       'Regional Cuisine, Mediterranean Cuisine',\n",
       "       'Regional Cuisine, Spanish Contemporary',\n",
       "       'Seafood, Market Cuisine', 'Galician, Creative', 'Innovative',\n",
       "       'Andalusian', 'Seasonal Cuisine',\n",
       "       'Market Cuisine, Traditional Cuisine',\n",
       "       'Fusion, Traditional Cuisine', 'Contemporary, Andalusian',\n",
       "       'Fusion, Modern Cuisine', 'Regional Cuisine, Seasonal Cuisine',\n",
       "       'Creative, Sardinian',\n",
       "       'Cuisine from the Marches, Regional Cuisine',\n",
       "       'Cuisine from Basilicata', 'Calabrian',\n",
       "       'Friulian, Regional Cuisine', 'Sicilian, Traditional Cuisine',\n",
       "       'Friulian, Traditional Cuisine',\n",
       "       'Classic Cuisine, Cuisine from Abruzzo',\n",
       "       'Lombardian, Traditional Cuisine', 'Chinese, Modern Cuisine',\n",
       "       'Regional Cuisine, Cuisine from Abruzzo',\n",
       "       'Cuisine from Valtellina, Mediterranean Cuisine',\n",
       "       'Umbrian, Regional Cuisine', 'Lombardian, Regional Cuisine',\n",
       "       'Lombardian', 'Regional Cuisine, Lombardian',\n",
       "       'Regional Cuisine, Apulian',\n",
       "       'Regional Cuisine, Cuisine from Valtellina',\n",
       "       'Sardinian, Regional Cuisine',\n",
       "       'Italian Contemporary, Regional Cuisine',\n",
       "       'Regional Cuisine, Alpine', 'Campanian',\n",
       "       'Seafood, Regional Cuisine', 'Venetian', 'Sicilian',\n",
       "       'Seafood, Classic Cuisine', 'Regional Cuisine, Country cooking',\n",
       "       'Mantuan, Seasonal Cuisine', 'Cuisine from the Marches',\n",
       "       'Regional Cuisine, Piedmontese', 'Regional Cuisine, Italian',\n",
       "       'Country cooking, Emilian', 'Fusion, Regional Cuisine',\n",
       "       'Ligurian, Traditional Cuisine', 'Country cooking, Grills',\n",
       "       'Regional Cuisine, Sicilian', 'Regional Cuisine, Ligurian',\n",
       "       'Sicilian, Regional Cuisine', 'Ligurian',\n",
       "       'Emilian, Seasonal Cuisine', 'Emilian, Regional Cuisine',\n",
       "       'Regional Cuisine, Umbrian', 'Market Cuisine, Italian',\n",
       "       'Regional Cuisine, Emilian', 'Regional Cuisine, Seafood',\n",
       "       'Apulian', 'Cuisine from Valtellina, Regional Cuisine',\n",
       "       'Regional Cuisine, Campanian', 'Emilian, Modern Cuisine',\n",
       "       'Roman, Regional Cuisine', 'Ligurian, Seasonal Cuisine',\n",
       "       'Seafood, Seasonal Cuisine', 'Italian, Regional Cuisine',\n",
       "       'Cuisine from Romagna, Market Cuisine', 'Modern Cuisine, Umbrian',\n",
       "       'Regional Cuisine, Cuisine from Romagna', 'Mantuan, Lombardian',\n",
       "       'Emilian, Classic Cuisine', 'Indian, Asian',\n",
       "       'Italian, Seasonal Cuisine', 'Chinese, Sichuan',\n",
       "       'Venetian, Regional Cuisine', 'Seasonal Cuisine, Italian',\n",
       "       'Cuisine from Lazio, Seasonal Cuisine', 'Roman, Classic Cuisine',\n",
       "       'Seafood, Sardinian', 'Latin American, International',\n",
       "       'Roman, Cuisine from Lazio', 'Chinese, Asian',\n",
       "       'Roman, Market Cuisine', 'Piedmontese, Classic Cuisine',\n",
       "       'Market Cuisine, Regional European', 'Asian',\n",
       "       'Mediterranean Cuisine, Spanish', 'Asian, Chinese',\n",
       "       'Modern Cuisine, Cuisine from the Marches',\n",
       "       'Mediterranean Cuisine, Italian-American', 'Organic', 'Indonesian',\n",
       "       'French, Modern French', 'French, Modern Cuisine',\n",
       "       'Modern Cuisine, World Cuisine', 'Asian, Asian Contemporary',\n",
       "       'International, Asian Influences', 'International, Middle Eastern',\n",
       "       'Traditional Cuisine, Classic French',\n",
       "       'Country cooking, Cuisine from the Marches', 'Grills',\n",
       "       'Alsatian, Traditional Cuisine', 'Traditional Cuisine, Alsatian',\n",
       "       'Cuisine from Aveyron', 'Provençal, Modern Cuisine', 'Vietnamese',\n",
       "       'Cuisine from South West France', 'Korean', 'Alsatian', 'Corsican',\n",
       "       'Traditional Cuisine, Cuisine from Franche-Comté',\n",
       "       'Modern Cuisine, Alsatian', 'Breton',\n",
       "       'Traditional Cuisine, Provençal', 'Savoyard',\n",
       "       'Alsatian, Country cooking', 'Basque, Modern Cuisine',\n",
       "       'Home Cooking, Grills', 'Sharing', 'Sharing, Country cooking',\n",
       "       'Grills, Classic Cuisine', 'Classic Cuisine, Traditional Cuisine',\n",
       "       'Traditional Cuisine, French', 'Italian, Modern French',\n",
       "       'Contemporary, French', 'Traditional Cuisine, Belgian',\n",
       "       'Belgian, Classic Cuisine', 'Market Cuisine, Creative French',\n",
       "       'Flemish, Regional Cuisine', 'Belgian', 'Lebanese',\n",
       "       'Classic French, Country cooking', 'Grills, Traditional Cuisine',\n",
       "       'Cuisine from South West France, Country cooking',\n",
       "       'Traditional Cuisine, Modern French',\n",
       "       'Modern French, Mediterranean Cuisine', 'Thai, Asian',\n",
       "       'Seasonal Cuisine, Traditional Cuisine', 'Spanish, Sharing',\n",
       "       'Meats and Grills, Classic Cuisine', 'Korean, Asian'], dtype=object)"
      ]
     },
     "execution_count": 8,
     "metadata": {},
     "output_type": "execute_result"
    }
   ],
   "source": [
    "df.head()\n",
    "df[\"Cuisine\"].unique()\n"
   ]
  },
  {
   "cell_type": "code",
   "execution_count": 9,
   "id": "c812fbdc",
   "metadata": {},
   "outputs": [],
   "source": [
    "# Regroupement en categorie dans Cuisine :\n",
    "\n",
    "# Classique\n",
    "# Contemporain et Créative\n",
    "# International\n",
    "# Régional\n",
    "# Produits de la mer\n",
    "# Grill\n",
    "# Végétarien\n",
    "# Saisonnier\n",
    "\n",
    "Classique_list = ['Classic', 'Home', 'Traditional', 'French', 'Belgian']\n",
    "\n",
    "Contemporaine_et_Creative_list = ['Contemporary', 'Creative', 'Fusion', \n",
    "                                  'Innovative','Modern']\n",
    "\n",
    "International_list = ['Asian', 'Austrian','Chinese', 'Chinesse', 'Colombian', \n",
    "                      'Indian', 'Indonesian', 'International', 'Israeli', \n",
    "                      'Japanese', 'Korean', 'Latin', 'Lebanese',\n",
    "                      'Mexican', 'Eastern', 'Peruvian', 'Rice', \n",
    "                      'Thai', 'Vietnamese', 'World']\n",
    "\n",
    "Regional_list = ['Alpine', 'Alsatian', 'Andalusian', 'Apulian', \n",
    "                 'Basque', 'Bavarian', 'Breton', \n",
    "                 'Calabian', 'Calabrian', 'Campanian', 'Catalan', 'Corsican', 'Country',\n",
    "                 'from', 'Emilian', 'Galician', 'German','Greek', \n",
    "                 'Irish', 'Italian', 'Ligurian', 'Lombardian', 'Lombardian'\n",
    "                 'Mediterranean','Mediterranean', \n",
    "                 'Piedmontese', 'Portuguese', 'Provençal', 'Regional', \n",
    "                 'Sardinian', 'Savoyard', 'Sharing', 'Sicilian', 'Spanish', \n",
    "                 'Tuscan', 'Umbrian', 'Venetian']\n",
    "\n",
    "Produits_de_la_mer_list = ['Seafood']\n",
    "\n",
    "Grill_list = ['Grill']\n",
    "\n",
    "Vegetarien_list = ['Organic', 'Vegan', 'Vegetarian']\n",
    "\n",
    "Saisonnier_list = ['Seasonal', 'Marker', 'Market']\n",
    "\n",
    "for i in df.index:\n",
    "    name = df.loc[i,\"Cuisine\"]\n",
    "    \n",
    "    for keyword in Saisonnier_list:\n",
    "        if keyword in name:\n",
    "            df.loc[i,\"Cuisine\"]='Saisonnier'\n",
    "\n",
    "    for keyword in Vegetarien_list:\n",
    "        if keyword in name:\n",
    "            df.loc[i,\"Cuisine\"]='Végétarien'\n",
    "    \n",
    "    for keyword in Grill_list:\n",
    "        if keyword in name:\n",
    "            df.loc[i,\"Cuisine\"]='Grills'\n",
    "\n",
    "    for keyword in Produits_de_la_mer_list:\n",
    "        if keyword in name:\n",
    "            df.loc[i,\"Cuisine\"]='Produits de la mer'\n",
    "            \n",
    "    for keyword in Regional_list:\n",
    "        if keyword in name:\n",
    "            df.loc[i,\"Cuisine\"]='Régional'\n",
    "\n",
    "    for keyword in International_list:\n",
    "        if keyword in name:\n",
    "            df.loc[i,\"Cuisine\"]='International'\n",
    "            \n",
    "    for keyword in Contemporaine_et_Creative_list:\n",
    "        if keyword in name:\n",
    "            df.loc[i,\"Cuisine\"]='Contemporaine et Créative'\n",
    "\n",
    "    for keyword in Classique_list:\n",
    "        if keyword in name:\n",
    "            df.loc[i,\"Cuisine\"]='Classique'"
   ]
  },
  {
   "cell_type": "code",
   "execution_count": 10,
   "id": "edf723dc",
   "metadata": {
    "scrolled": true
   },
   "outputs": [
    {
     "name": "stdout",
     "output_type": "stream",
     "text": [
      "Contemporaine et Créative    1881\n",
      "Classique                     850\n",
      "Régional                      510\n",
      "International                 152\n",
      "Saisonnier                     65\n",
      "Produits de la mer             59\n",
      "Végétarien                     12\n",
      "Grills                          6\n",
      "Name: Cuisine, dtype: int64\n"
     ]
    }
   ],
   "source": [
    "print( df[\"Cuisine\"].value_counts() )\n",
    "\n",
    "# Classique\n",
    "# Contemporain et Créative\n",
    "# International\n",
    "# Régional\n",
    "# Produits de la mer\n",
    "# Grills\n",
    "# Végétarien\n",
    "# Saisonnier"
   ]
  },
  {
   "cell_type": "code",
   "execution_count": 11,
   "id": "58bcaf28",
   "metadata": {},
   "outputs": [
    {
     "name": "stdout",
     "output_type": "stream",
     "text": [
      "Separating target variable from features...\n",
      "...Done. \n",
      "\n"
     ]
    }
   ],
   "source": [
    "# Separate target variable Y from features X\n",
    "print(\"Separating target variable from features...\")\n",
    "\n",
    "## Choose the columns you want to have as your features\n",
    "features_list = df.columns[:-1]\n",
    "\n",
    "X = df.loc[:,features_list] # We add feature_list into our loc \n",
    "y = df.loc[:,\"Award\"] # We set \"Profit\" as the target variable\n",
    "\n",
    "print(\"...Done.\", \"\\n\")"
   ]
  },
  {
   "cell_type": "code",
   "execution_count": 12,
   "id": "ac40618f",
   "metadata": {},
   "outputs": [
    {
     "name": "stdout",
     "output_type": "stream",
     "text": [
      "Splitting dataset into train set and test set...\n",
      "...Done.\n"
     ]
    }
   ],
   "source": [
    "# Divide dataset Train set & Test set \n",
    "print(\"Splitting dataset into train set and test set...\")\n",
    "## Then we use train_test_split\n",
    "X_train, X_test, y_train, y_test = train_test_split(X, y, \n",
    "                                                    test_size=0.2, \n",
    "                                                    random_state=0)\n",
    "\n",
    "print(\"...Done.\")"
   ]
  },
  {
   "cell_type": "code",
   "execution_count": 13,
   "id": "3fa6649e",
   "metadata": {},
   "outputs": [
    {
     "data": {
      "text/plain": [
       "MinPrice    False\n",
       "MaxPrice    False\n",
       "Cuisine     False\n",
       "dtype: bool"
      ]
     },
     "execution_count": 13,
     "metadata": {},
     "output_type": "execute_result"
    }
   ],
   "source": [
    "# Le dataset à déja été clean. \n",
    "X_train.isnull().any()"
   ]
  },
  {
   "cell_type": "code",
   "execution_count": 14,
   "id": "9ca81bcd",
   "metadata": {},
   "outputs": [
    {
     "name": "stdout",
     "output_type": "stream",
     "text": [
      "#### X_train BEFORE preprocessing ####\n",
      "      MinPrice  MaxPrice                    Cuisine\n",
      "2842        64       255  Contemporaine et Créative\n",
      "608         95       120              International\n",
      "1844        90       140  Contemporaine et Créative\n",
      "1356        70        78  Contemporaine et Créative\n",
      "5660        28        69  Contemporaine et Créative\n",
      "\n",
      "Encoding categorical features and standardizing numerical features...\n",
      "...Done.\n",
      "#### X_train AFTER preprocessing ####\n",
      "[[ 0.          1.          0.          0.          0.          0.\n",
      "   0.          0.          0.01635916  2.38570443]\n",
      " [ 0.          0.          0.          1.          0.          0.\n",
      "   0.          0.          0.69962479  0.24626677]\n",
      " [ 0.          1.          0.          0.          0.          0.\n",
      "   0.          0.          0.58942065  0.5632205 ]\n",
      " [ 0.          1.          0.          0.          0.          0.\n",
      "   0.          0.          0.14860412 -0.41933606]\n",
      " [ 0.          1.          0.          0.          0.          0.\n",
      "   0.          0.         -0.77711061 -0.56196524]]\n",
      "\n"
     ]
    }
   ],
   "source": [
    "# Encoding categorical features and standardizing numeric features\n",
    "print(\"#### X_train BEFORE preprocessing ####\")\n",
    "print(X_train.head())\n",
    "print()\n",
    "\n",
    "print(\"Encoding categorical features and standardizing numerical features...\")\n",
    "## First let's import libraries\n",
    "## StandardScaler to scale data (i.e apply Z-score)\n",
    "## OneHotEncoder to encode categorical variables\n",
    "\n",
    "# This is a list comprehension (too complex for students)\n",
    "#numeric_features = [i  for i,item in enumerate(X_train.columns) if item != \"Sex\" and item !=\"Embarked\" ]\n",
    "\n",
    "numeric_features = [0, 1] \n",
    "numeric_transformer = StandardScaler()\n",
    "\n",
    "\n",
    "categorical_features = [2] \n",
    "categorical_transformer = OneHotEncoder()\n",
    "\n",
    "\n",
    "# Apply ColumnTransformer to create a pipeline that will apply the above preprocessing\n",
    "feature_encoder = ColumnTransformer(\n",
    "    transformers=[\n",
    "        ('cat', categorical_transformer, categorical_features),    \n",
    "        ('num', numeric_transformer, numeric_features)\n",
    "        ]\n",
    "    )\n",
    "\n",
    "X_train = feature_encoder.fit_transform(X_train)\n",
    "print(\"...Done.\")\n",
    "print(\"#### X_train AFTER preprocessing ####\")\n",
    "print(X_train[0:5,:]) # print first 5 rows (not using iloc since now X_train became a numpy array)\n",
    "print()"
   ]
  },
  {
   "cell_type": "code",
   "execution_count": 15,
   "id": "5070eae0",
   "metadata": {
    "scrolled": true
   },
   "outputs": [
    {
     "name": "stdout",
     "output_type": "stream",
     "text": [
      "2842    1 MICHELIN Star\n",
      "608     1 MICHELIN Star\n",
      "1844    1 MICHELIN Star\n",
      "1356    1 MICHELIN Star\n",
      "5660       Bib Gourmand\n",
      "Name: Award, dtype: object\n"
     ]
    }
   ],
   "source": [
    "print(y_train.head())"
   ]
  },
  {
   "cell_type": "code",
   "execution_count": null,
   "id": "1f7cf7fb",
   "metadata": {},
   "outputs": [],
   "source": []
  },
  {
   "cell_type": "markdown",
   "id": "a64fcc77",
   "metadata": {},
   "source": [
    "### Build your model"
   ]
  },
  {
   "cell_type": "code",
   "execution_count": null,
   "id": "2b9a580c",
   "metadata": {},
   "outputs": [],
   "source": []
  },
  {
   "cell_type": "code",
   "execution_count": 16,
   "id": "850b253a",
   "metadata": {
    "scrolled": true
   },
   "outputs": [
    {
     "name": "stdout",
     "output_type": "stream",
     "text": [
      "Train model...\n",
      "...Done.\n"
     ]
    }
   ],
   "source": [
    "# Train model\n",
    "print(\"Train model...\")\n",
    "classifier = sk.LogisticRegression(max_iter=10000)\n",
    "classifier.fit(X_train, y_train) # This steps is the actual training !\n",
    "print(\"...Done.\")"
   ]
  },
  {
   "cell_type": "code",
   "execution_count": 17,
   "id": "a0a89c10",
   "metadata": {},
   "outputs": [
    {
     "name": "stdout",
     "output_type": "stream",
     "text": [
      "--- Testing pipeline ---\n",
      "Standardizing numerical features...\n",
      "      MinPrice  MaxPrice                    Cuisine\n",
      "2423        55       161  Contemporaine et Créative\n",
      "6297        39        65  Contemporaine et Créative\n",
      "4568        18        50                   Régional\n",
      "6165        29        42  Contemporaine et Créative\n",
      "2821        60       190  Contemporaine et Créative\n",
      "...        ...       ...                        ...\n",
      "4690        80        80              International\n",
      "1745       120       180  Contemporaine et Créative\n",
      "5649        33        33  Contemporaine et Créative\n",
      "2900        49       160  Contemporaine et Créative\n",
      "268        165       189  Contemporaine et Créative\n",
      "\n",
      "[707 rows x 3 columns]\n",
      "\n",
      "...Done.\n",
      "[[ 0.          1.          0.          0.          0.          0.\n",
      "   0.          0.         -0.18200828  0.89602191]\n",
      " [ 0.          1.          0.          0.          0.          0.\n",
      "   0.          0.         -0.53466151 -0.62535598]\n",
      " [ 0.          0.          0.          0.          0.          1.\n",
      "   0.          0.         -0.99751887 -0.86307128]\n",
      " [ 0.          1.          0.          0.          0.          0.\n",
      "   0.          0.         -0.75506978 -0.98985277]\n",
      " [ 0.          1.          0.          0.          0.          0.\n",
      "   0.          0.         -0.07180415  1.35560482]]\n",
      "\n",
      "Predictions on test set...\n",
      "...Done.\n",
      "['1 MICHELIN Star' 'Bib Gourmand' 'Bib Gourmand' 'Bib Gourmand'\n",
      " '1 MICHELIN Star']\n",
      "\n",
      "Final accuracy score on Test set:  0.884016973125884\n"
     ]
    }
   ],
   "source": [
    "## Testing pipeline ###\n",
    "print(\"--- Testing pipeline ---\")\n",
    "\n",
    "# Copy X_train to avoid caveats\n",
    "X_test = X_test.copy()\n",
    "\n",
    "# Imputing \n",
    "#print(\"Imputing missing values\")\n",
    "#X_test[[\"Age\"]] = numerical_imputer.transform(X_test[[\"Age\"]])\n",
    "#X_test[[\"Embarked\"]] = categorical_imputer.transform(X_test[[\"Embarked\"]])\n",
    "#print()\n",
    "\n",
    "# Standardizing numeric features\n",
    "print(\"Standardizing numerical features...\")\n",
    "print(X_test)\n",
    "print()\n",
    "\n",
    "X_test = feature_encoder.transform(X_test)\n",
    "\n",
    "print(\"...Done.\")\n",
    "print(X_test[:5]) # print first 5 rows (not using iloc since now X_test became a numpy array)\n",
    "print()\n",
    "\n",
    "# Predictions on test set\n",
    "print(\"Predictions on test set...\")\n",
    "y_test_pred = classifier.predict(X_test)\n",
    "print(\"...Done.\")\n",
    "print(y_test_pred[:5])\n",
    "print()\n",
    "\n",
    "print(\"Final accuracy score on Test set: \",classifier.score(X_test, y_test))"
   ]
  },
  {
   "cell_type": "code",
   "execution_count": 18,
   "id": "35f73646",
   "metadata": {},
   "outputs": [
    {
     "name": "stdout",
     "output_type": "stream",
     "text": [
      "Train score:  0.887906647807638\n",
      "Test score:  0.884016973125884\n"
     ]
    }
   ],
   "source": [
    "print(\"Train score: \", classifier.score(X_train, y_train))\n",
    "print(\"Test score: \", classifier.score(X_test, y_test))"
   ]
  },
  {
   "cell_type": "markdown",
   "id": "b989eb2a",
   "metadata": {},
   "source": [
    "### D'après de ce modèle : \n",
    "\n",
    "En utilisant comme données :\n",
    "* Les prix moyen du menu d'entrée de gamme \n",
    "* Les prix moyen du menu Haut de gamme \n",
    "* Et le type de cuisine servi par restaurant \n",
    "\n",
    "Nous pouvons estimer avec une fiabilité de près de 90 % l'étoile accordé à ce restaurant."
   ]
  },
  {
   "cell_type": "code",
   "execution_count": 19,
   "id": "61d530e2",
   "metadata": {
    "scrolled": false
   },
   "outputs": [
    {
     "name": "stdout",
     "output_type": "stream",
     "text": [
      "--- Assessment of performances ---\n"
     ]
    },
    {
     "name": "stderr",
     "output_type": "stream",
     "text": [
      "/Library/Frameworks/Python.framework/Versions/3.9/lib/python3.9/site-packages/sklearn/utils/deprecation.py:87: FutureWarning: Function plot_confusion_matrix is deprecated; Function `plot_confusion_matrix` is deprecated in 1.0 and will be removed in 1.2. Use one of the class methods: ConfusionMatrixDisplay.from_predictions or ConfusionMatrixDisplay.from_estimator.\n",
      "  warnings.warn(msg, category=FutureWarning)\n"
     ]
    },
    {
     "data": {
      "image/png": "[encoded data removed]",
      "text/plain": [
       "<Figure size 640x480 with 2 Axes>"
      ]
     },
     "metadata": {},
     "output_type": "display_data"
    },
    {
     "name": "stdout",
     "output_type": "stream",
     "text": [
      "accuracy-score on train set :  0.887906647807638\n"
     ]
    },
    {
     "name": "stderr",
     "output_type": "stream",
     "text": [
      "/Library/Frameworks/Python.framework/Versions/3.9/lib/python3.9/site-packages/sklearn/utils/deprecation.py:87: FutureWarning: Function plot_confusion_matrix is deprecated; Function `plot_confusion_matrix` is deprecated in 1.0 and will be removed in 1.2. Use one of the class methods: ConfusionMatrixDisplay.from_predictions or ConfusionMatrixDisplay.from_estimator.\n",
      "  warnings.warn(msg, category=FutureWarning)\n"
     ]
    },
    {
     "data": {
      "image/png": "[encoded data removed]",
      "text/plain": [
       "<Figure size 640x480 with 2 Axes>"
      ]
     },
     "metadata": {},
     "output_type": "display_data"
    },
    {
     "name": "stdout",
     "output_type": "stream",
     "text": [
      "accuracy-score on test set :  0.884016973125884\n"
     ]
    }
   ],
   "source": [
    "### Assessment of performances ###\n",
    "print(\"--- Assessment of performances ---\")\n",
    "\n",
    "plt.rcParams.update({'font.size': 7})\n",
    "\n",
    "# Plot confusion matrix\n",
    "cm = plot_confusion_matrix(classifier, X_train, y_train)\n",
    "cm.ax_.set_title(\"Confusion matrix on train set \") # Simply to set a title\n",
    "plt.show() # Show graph\n",
    "print(\"accuracy-score on train set : \", classifier.score(X_train, y_train))\n",
    "\n",
    "\n",
    "cm = plot_confusion_matrix(classifier, X_test, y_test)\n",
    "cm.ax_.set_title(\"Confusion matrix on test set \")\n",
    "plt.show() # Show graph\n",
    "print(\"accuracy-score on test set : \", classifier.score(X_test, y_test))"
   ]
  },
  {
   "cell_type": "markdown",
   "id": "d91ecfa2",
   "metadata": {},
   "source": [
    "Les deux Matrices de Confusions présente des résultats similaire. \n",
    "L'accuracy-score est extrèmement proche pour le dataset d'entrainement comme pour le dataset test. \n",
    "On peut donc en conclure que se baser sur ces paramètre nous permettent d'avoir une estimation juste.\n",
    "\n",
    "En analysant de près nos résultat :\n",
    "\n",
    "* Big Gourmant peut dans de rare cas etre confondu avec une première étoile \n",
    "* ⭐ Peut etre confondu avec 2 étoiles et parfoit avec des Big Gourmant \n",
    "* ⭐⭐ Peut etre confondu avec 1 étoile et dans de rare cas avec 3 étoiles\n",
    "* ⭐⭐⭐ Est souvant confondu avec 2 étoiles voire 1 au Guide ( Dù au trop petit échantillon de donnée ) \n",
    "\n",
    "Nous pouvons réaliser des estimations extrèmement fiable sur nos premières catégories, là où nous parlons d'entrée au Guide Michelin mais nos estimations sont plus flou pour les restaurants Haut de Gamme."
   ]
  },
  {
   "cell_type": "code",
   "execution_count": 20,
   "id": "b6212492",
   "metadata": {},
   "outputs": [
    {
     "name": "stdout",
     "output_type": "stream",
     "text": [
      "coefficients are:  [[-1.38617962e-01  2.86500959e-01 -2.42632468e-01  2.48200391e-01\n",
      "   1.77990168e-01 -4.86564497e-02 -3.57146758e-01  6.38807167e-02\n",
      "   4.36460576e-01  4.40955137e-01]\n",
      " [ 5.16114888e-01  1.03829060e+00 -1.56592377e-03 -8.54253303e-01\n",
      "  -1.32542600e-01 -2.96955907e-01 -1.49420826e-01 -1.10440836e-01\n",
      "   8.35394202e-01  2.16607517e+00]\n",
      " [-6.21666985e-02  4.56288765e-01  2.33402720e-06 -8.13916951e-01\n",
      "   5.31434713e-01 -1.02786301e-01 -2.35761317e-03 -3.65069662e-03\n",
      "   1.63641094e+00  2.95286345e+00]\n",
      " [-3.15330228e-01 -1.78108032e+00  2.44196058e-01  1.41996986e+00\n",
      "  -5.76882281e-01  4.48398658e-01  5.08925198e-01  5.02108156e-02\n",
      "  -2.90826572e+00 -5.55989375e+00]]\n",
      "Constant is:  [ 3.85304221 -0.51877852 -5.11418891  1.77992522]\n",
      "\n",
      "All transformers are:  [('cat', OneHotEncoder(), [2]), ('num', StandardScaler(), [0, 1])]\n",
      "\n",
      "One Hot Encoder transformer is:  OneHotEncoder()\n",
      "\n",
      "Categorical columns are:  ['Classique', 'Contemporaine et Créative', 'Grills', 'International', 'Produits de la mer', 'Régional', 'Saisonnier', 'Végétarien'] \n",
      "\n",
      "numerical columns are:  Index(['MinPrice', 'MaxPrice'], dtype='object') \n",
      "\n",
      "All column names are:  ['Classique' 'Contemporaine et Créative' 'Grills' 'International'\n",
      " 'Produits de la mer' 'Régional' 'Saisonnier' 'Végétarien' 'MinPrice'\n",
      " 'MaxPrice'] \n",
      "\n"
     ]
    }
   ],
   "source": [
    "# Check coefficients \n",
    "\n",
    "print(\"coefficients are: \", classifier.coef_) \n",
    "print(\"Constant is: \", classifier.intercept_)\n",
    "print()\n",
    "\n",
    "# Access transformers from feature_encoder\n",
    "print(\"All transformers are: \", feature_encoder.transformers_)\n",
    "print()\n",
    "\n",
    "# Access one specific transformer\n",
    "print(\"One Hot Encoder transformer is: \", feature_encoder.transformers_[0][1])\n",
    "print()\n",
    "\n",
    "# Print categories\n",
    "categorical_column_names = feature_encoder.transformers_[0][1].categories_\n",
    "\n",
    "# CAREFUL HERE, we have a list of two arrays. We can use list comprehensions OR np.append() \n",
    "# General complex method\n",
    "flat_cat_features = [item for array in categorical_column_names for item in array]\n",
    "\n",
    "\n",
    "print(\"Categorical columns are: \", flat_cat_features, \"\\n\")\n",
    "\n",
    "# Print numerical columns\n",
    "numerical_column_names = X.iloc[:, numeric_features].columns \n",
    "print(\"numerical columns are: \", numerical_column_names, \"\\n\")\n",
    "\n",
    "# Append all columns \n",
    "all_column_names = np.append(flat_cat_features, numerical_column_names)\n",
    "print(\"All column names are: \",all_column_names, \"\\n\")"
   ]
  },
  {
   "cell_type": "code",
   "execution_count": 21,
   "id": "da6c77f4",
   "metadata": {
    "scrolled": true
   },
   "outputs": [
    {
     "data": {
      "text/plain": [
       "array(['Classique', 'Contemporaine et Créative', 'Grills',\n",
       "       'International', 'Produits de la mer', 'Régional', 'Saisonnier',\n",
       "       'Végétarien', 'MinPrice', 'MaxPrice'], dtype=object)"
      ]
     },
     "execution_count": 21,
     "metadata": {},
     "output_type": "execute_result"
    }
   ],
   "source": [
    "all_column_names"
   ]
  },
  {
   "cell_type": "code",
   "execution_count": 22,
   "id": "335d0868",
   "metadata": {},
   "outputs": [
    {
     "data": {
      "text/plain": [
       "array([ 1.80411242e-16,  7.21644966e-16, -1.24900090e-16,  6.66133815e-16,\n",
       "        1.11022302e-16,  2.35922393e-16,  6.38378239e-16,  1.30104261e-16,\n",
       "       -8.88178420e-16, -3.77475828e-15])"
      ]
     },
     "execution_count": 22,
     "metadata": {},
     "output_type": "execute_result"
    }
   ],
   "source": [
    "classifier.coef_.mean(axis=0)"
   ]
  },
  {
   "cell_type": "code",
   "execution_count": 23,
   "id": "92fbc910",
   "metadata": {},
   "outputs": [
    {
     "data": {
      "text/plain": [
       "<seaborn.axisgrid.FacetGrid at 0x7f8eebaafdc0>"
      ]
     },
     "execution_count": 23,
     "metadata": {},
     "output_type": "execute_result"
    },
    {
     "data": {
      "image/png": "[encoded data removed]",
      "text/plain": [
       "<Figure size 1777.78x500 with 1 Axes>"
      ]
     },
     "metadata": {},
     "output_type": "display_data"
    }
   ],
   "source": [
    "# Feature importance \n",
    "feature_importance = pd.DataFrame({\n",
    "    \"feature_names\": all_column_names,\n",
    "    \"coefficients\":classifier.coef_.std(axis=0) # CAREFUL HERE. We need to access first index of our list because \n",
    "                                            # Data need to be 1 dimensional\n",
    "                                            # That's what .squeeze()\n",
    "})\n",
    "\n",
    "\n",
    "# Set coefficient to absolute values to rank features\n",
    "feature_importance[\"coefficients\"] = feature_importance[\"coefficients\"].abs()\n",
    "\n",
    "# Visualize ranked features using seaborn\n",
    "sns.catplot(x=\"feature_names\", \n",
    "            y=\"coefficients\", \n",
    "            data=feature_importance.sort_values(by=\"coefficients\", ascending=False), \n",
    "            kind=\"bar\",\n",
    "            aspect=32/9) # Resize graph"
   ]
  },
  {
   "cell_type": "markdown",
   "id": "07262c5e",
   "metadata": {},
   "source": [
    "On s'aperçois que le menu le plus chère de la carte est déterminant pour determiner le nombre d'étoile."
   ]
  },
  {
   "cell_type": "code",
   "execution_count": 24,
   "id": "e787aa36",
   "metadata": {},
   "outputs": [
    {
     "name": "stderr",
     "output_type": "stream",
     "text": [
      "<ipython-input-24-864e72ea27ac>:11: SettingWithCopyWarning: \n",
      "A value is trying to be set on a copy of a slice from a DataFrame\n",
      "\n",
      "See the caveats in the documentation: https://pandas.pydata.org/pandas-docs/stable/user_guide/indexing.html#returning-a-view-versus-a-copy\n",
      "  new['feature_names'][3] = \"MeanPrice\"\n"
     ]
    },
    {
     "data": {
      "text/plain": [
       "<seaborn.axisgrid.FacetGrid at 0x7f8eeab68eb0>"
      ]
     },
     "execution_count": 24,
     "metadata": {},
     "output_type": "execute_result"
    },
    {
     "data": {
      "image/png": "[encoded data removed]",
      "text/plain": [
       "<Figure size 500x500 with 1 Axes>"
      ]
     },
     "metadata": {},
     "output_type": "display_data"
    }
   ],
   "source": [
    "cuisine = feature_importance[0:8].sum()\n",
    "cuisine[0] = \"Cuisine\"\n",
    "\n",
    "mean = feature_importance[8:10].mean()\n",
    "\n",
    "new = feature_importance.drop(range(0, 8))\n",
    "\n",
    "new = new.append(cuisine, ignore_index=True)\n",
    "new = new.append(mean, ignore_index=True)\n",
    "new = new.drop(range(0, 2))\n",
    "new['feature_names'][3] = \"MeanPrice\"\n",
    "\n",
    "# Visualize ranked features using seaborn\n",
    "sns.catplot(x=\"feature_names\", \n",
    "            y=\"coefficients\", \n",
    "            data=new.sort_values(by=\"coefficients\", ascending=False), \n",
    "            kind=\"bar\")"
   ]
  },
  {
   "cell_type": "markdown",
   "id": "dbfeb6ea",
   "metadata": {},
   "source": [
    "Mais en regroupant nos cuisine, on s'aperçoit que toute categories confondu, la cuisine servie dans un restaurant impacte plus l'attribution d'étoile que le prix moyen d'un menu."
   ]
  }
 ],
 "metadata": {
  "kernelspec": {
   "display_name": "Python 3",
   "language": "python",
   "name": "python3"
  },
  "language_info": {
   "codemirror_mode": {
    "name": "ipython",
    "version": 3
   },
   "file_extension": ".py",
   "mimetype": "text/x-python",
   "name": "python",
   "nbconvert_exporter": "python",
   "pygments_lexer": "ipython3",
   "version": "3.9.5"
  }
 },
 "nbformat": 4,
 "nbformat_minor": 5
}
