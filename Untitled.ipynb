{
 "cells": [
  {
   "cell_type": "code",
   "execution_count": null,
   "id": "b38a7440",
   "metadata": {},
   "outputs": [],
   "source": [
    "# Taille du dataSet \n",
    "##\n",
    "initial_size = df.shape\n",
    "initial_number_of_row = len(df)\n",
    "\n",
    "\n",
    "# Calcul de la marge d'erreur\n",
    "##\n",
    "Z_Score = 1.96 \n",
    "Sigma = df.std()\n",
    "n = len(df)\n",
    "\n",
    "E = Z_Score * Sigma / (n**0.5) ## Marge d'erreur \n",
    "\n",
    "\n",
    "# Calcul d'une Taille minimale viable pour un échantillon\n",
    "##\n",
    "s = df.std()# Sample Standard = ecart Type de l'échantillon \n",
    "t = Z_Score ## Z_Score, noté t ou Z.\n",
    "\n",
    "n_minimun = ( t * s / E)**2 ## taille de l'échantillon \n",
    "\n",
    "\n",
    "# Reduction de notre dataSet à la devise EUR. \n",
    "##\n",
    "df = df.query(\"Currency == 'EUR'\")\n",
    "\n",
    "\n",
    "\n",
    "print(\"Taille du dataset initiale: \", initial_size, \"\\n\")\n",
    "\n",
    "print(\"Nombre de ligne dans le dataset : \",  initial_number_of_row)\n",
    "print(\"Nombre de ligne euro du dataset : \", len(df), \"\\n\")\n",
    "\n",
    "print(\"Marge d'erreur : \", E[\"MaxPrice\"] ,\"\\n\")\n",
    "print(\"Taille minimun necessaire pour obtenir un echantillon viable : \", n_minimun[\"MaxPrice\"])"
   ]
  }
 ],
 "metadata": {
  "kernelspec": {
   "display_name": "Python 3",
   "language": "python",
   "name": "python3"
  },
  "language_info": {
   "codemirror_mode": {
    "name": "ipython",
    "version": 3
   },
   "file_extension": ".py",
   "mimetype": "text/x-python",
   "name": "python",
   "nbconvert_exporter": "python",
   "pygments_lexer": "ipython3",
   "version": "3.9.5"
  }
 },
 "nbformat": 4,
 "nbformat_minor": 5
}
